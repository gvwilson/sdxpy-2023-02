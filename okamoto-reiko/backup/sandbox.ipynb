{
 "cells": [
  {
   "cell_type": "code",
   "execution_count": 78,
   "id": "a7f0c0f3-9c0e-4f4e-bbbf-1be1b916e862",
   "metadata": {},
   "outputs": [],
   "source": [
    "# Question 1\n",
    "manifest_a = {'name': ['top.txt', 'bottom.txt'], 'hash': ['abc123', 'def456']}\n",
    "manifest_b = {'name': ['top.txt', 'bottom.txt'], 'hash': ['abc1234', 'def456']} \n",
    "manifest_c = {'name': ['middle.txt', 'bottom.txt'], 'hash': ['abc123', 'def456']} \n",
    "manifest_d = {'name': ['bottom.txt'], 'hash': ['def456']}\n",
    "manifest_e = {'name': ['top.txt', 'middle.txt', 'bottom.txt'], 'hash': ['abc123', 'ghi789', 'def456']}"
   ]
  },
  {
   "cell_type": "code",
   "execution_count": 86,
   "id": "38ec830b-e92a-4a4c-8a78-f4aa76b22011",
   "metadata": {},
   "outputs": [],
   "source": [
    "results = {'changed': [],\n",
    "           'renamed': [],\n",
    "           'deleted': [],\n",
    "           'added': []}\n",
    "\n",
    "for i in range(len(manifest_a['name'])):\n",
    "    # file name exists in both places\n",
    "    if manifest_a['name'][i] in manifest_b['name']: \n",
    "        index_b = manifest_b['name'].index(manifest_a['name'][i])\n",
    "        if manifest_a['hash'][i] != manifest_b['hash'][index_b]: # but have different hashes (content has changed)\n",
    "            results['changed'].append(manifest_a['name'][i])\n",
    "    \n",
    "    # hash exists in both places\n",
    "    if manifest_a['hash'][i] in manifest_b['hash']: \n",
    "        index_b = manifest_b['hash'].index(manifest_a['hash'][i])\n",
    "        if manifest_a['name'][i] != manifest_b['name'][index_c]: # but have different names \n",
    "            results['renamed'].append(manifest_a['name'][i])\n",
    "            \n",
    "    # name/hash exists in manifest A, but not in B \n",
    "    if (not manifest_a['name'][i] in manifest_b['name']) & (not manifest_a['hash'][i] in manifest_b['hash']):\n",
    "        results['deleted'].append(manifest_a['name'][i]) #\n",
    "        \n",
    "for i in range(len(manifest_b['name'])):\n",
    "    # name/hash exists in manifest B, but not in A\n",
    "    if (not manifest_b['name'][i] in manifest_a['name']) & (not manifest_b['hash'][i] in manifest_a['hash']):\n",
    "        results['added'].append(manifest_b['name'][i])"
   ]
  }
 ],
 "metadata": {
  "kernelspec": {
   "display_name": "Python 3 (ipykernel)",
   "language": "python",
   "name": "python3"
  },
  "language_info": {
   "codemirror_mode": {
    "name": "ipython",
    "version": 3
   },
   "file_extension": ".py",
   "mimetype": "text/x-python",
   "name": "python",
   "nbconvert_exporter": "python",
   "pygments_lexer": "ipython3",
   "version": "3.9.7"
  }
 },
 "nbformat": 4,
 "nbformat_minor": 5
}
