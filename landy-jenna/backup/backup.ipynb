{
 "cells": [
  {
   "cell_type": "markdown",
   "metadata": {},
   "source": [
    "# Week 3 Exercises\n",
    "## Jenna Landy\n",
    "Note from student: I didn't have time to create full python programs with command line arguments, so for now, I have functions within this jupyter notebook."
   ]
  },
  {
   "cell_type": "code",
   "execution_count": 1,
   "metadata": {},
   "outputs": [],
   "source": [
    "import pandas as pd\n",
    "from pathlib import Path\n",
    "from glob import glob\n",
    "import re\n",
    "from warnings import warn\n",
    "import hashlib"
   ]
  },
  {
   "cell_type": "markdown",
   "metadata": {},
   "source": [
    "Note: the lesson for this week covered both the backup tool and how to use mock objects\n",
    "like pyfakefs in testing. It was clearly too much material—my apologies for trying to\n",
    "cram it all in—so the exercises below do _not_ require you to use pyfakefs. I will put\n",
    "together an entire lesson on mock objects to run later in the course.\n",
    "\n",
    "## Comparing manifests\n",
    "\n",
    "Write a program `compare-manifests.py` that reads two manifest files and reports:\n",
    "\n",
    "-   Which files have the same names but different hashes\n",
    "    (i.e., their contents have changed).\n",
    "-   Which files have the same hashes but different names\n",
    "    (i.e., they have been renamed).\n",
    "-   Which files are in the first hash but neither their names nor their hashes are in the second\n",
    "    (i.e., they have been deleted).\n",
    "-   Which files are in the second hash but neither their names nor their hashes are in the first\n",
    "    (i.e., they have been added).\n",
    "\n",
    "You can test your program by hand-writing a few manifest CSV files with made-up hashes."
   ]
  },
  {
   "cell_type": "markdown",
   "metadata": {},
   "source": [
    "First, recall what our manifest files look like. They are CSV files with two values per row: the filename and the hash."
   ]
  },
  {
   "cell_type": "raw",
   "metadata": {},
   "source": [
    "def write_manifest(backup_dir, timestamp, manifest):\n",
    "    backup_dir = Path(backup_dir)\n",
    "    if not backup_dir.exists():\n",
    "        backup_dir.mkdir()\n",
    "    manifest_file = Path(backup_dir, f\"{timestamp}.csv\")\n",
    "    with open(manifest_file, \"w\") as raw:\n",
    "        writer = csv.writer(raw)\n",
    "        writer.writerow([\"filename\", \"hash\"])\n",
    "        writer.writerows(manifest)"
   ]
  },
  {
   "cell_type": "markdown",
   "metadata": {},
   "source": [
    "Second, make two made-up manifests. From manifest1 to manifest2, the file `test1.py` has been altered and the file `test3.py` has been deleted, the file `test4.py` has been renamed to `te4st.py`, and the file `test5.py` has been created."
   ]
  },
  {
   "cell_type": "code",
   "execution_count": 2,
   "metadata": {},
   "outputs": [],
   "source": [
    "manifest1 = pd.DataFrame({\n",
    "    'file': ['test1.py', 'test2.py', 'test3.py', 'test4.py'],\n",
    "    'hash': ['abc', 'abcd', 'abcde','dabc']\n",
    "})\n",
    "\n",
    "manifest1.to_csv('manifest1.csv', index = False, header = False)"
   ]
  },
  {
   "cell_type": "code",
   "execution_count": 3,
   "metadata": {},
   "outputs": [],
   "source": [
    "manifest2 = pd.DataFrame({\n",
    "    'file': ['test1.py', 'test2.py', 'te4st.py', 'test5.py'],\n",
    "    'hash': ['abe', 'abcd', 'dabc', 'abcdef']\n",
    "})\n",
    "\n",
    "manifest2.to_csv('manifest2.csv', index = False, header = False)"
   ]
  },
  {
   "cell_type": "code",
   "execution_count": 4,
   "metadata": {},
   "outputs": [],
   "source": [
    "def compare_manifests(path1, path2):\n",
    "    assert Path(path1).exists()\n",
    "    assert Path(path2).exists()\n",
    "    \n",
    "    with open(Path(path1)) as f:\n",
    "        manifest1 = [line.replace('\\n','').split(',') for line in f.readlines()]\n",
    "        manifest1 = {m[0]:m[1] for m in manifest1}\n",
    "    \n",
    "    with open(Path(path2)) as f:\n",
    "        manifest2 = [line.replace('\\n','').split(',') for line in f.readlines()]\n",
    "        manifest2 = {m[0]:m[1] for m in manifest2}\n",
    "        manifest2_rev = {v:k for k,v in manifest2.items()}\n",
    "    \n",
    "    renamed = []\n",
    "    changed = []\n",
    "    deleted = []\n",
    "    \n",
    "    new = manifest2.copy()\n",
    "    # new: no matching hash or name in first\n",
    "    \n",
    "    for i in range(len(manifest1)):\n",
    "        file = list(manifest1.keys())[i]\n",
    "        if file in manifest2.keys():\n",
    "            if manifest1[file] != manifest2[file]:\n",
    "                # changed: same name different hash\n",
    "                changed.append(file)\n",
    "                \n",
    "            # matching name, not new\n",
    "            del(new[file])\n",
    "        else:\n",
    "            file_hash = list(manifest1.values())[i]\n",
    "            if file_hash in manifest2.values():\n",
    "                # renamed: same hash different name\n",
    "                new_name = manifest2_rev[file_hash]\n",
    "                renamed.append(file + ' -> ' + new_name)\n",
    "                \n",
    "                # matching hash, not new\n",
    "                del(new[new_name])\n",
    "            else:\n",
    "                # deleted: no matching hash or name in second\n",
    "                deleted.append(file)\n",
    "    \n",
    "    new = new.keys()\n",
    "                \n",
    "    # print report\n",
    "    if len(new) > 0:\n",
    "        print('New Files:')\n",
    "        for f in new:\n",
    "            print('- ' + f)\n",
    "    if len(changed) > 0:\n",
    "        print('\\nChanged Files:')\n",
    "        for f in changed:\n",
    "            print('- ' + f)\n",
    "    if len(renamed) > 0:\n",
    "        print('\\nRenamed Files:')\n",
    "        for f in renamed:\n",
    "            print('- ' + f)\n",
    "    if len(deleted) > 0:\n",
    "        print('\\nDeleted Files:')\n",
    "        for f in deleted:\n",
    "            print('- ' + f)"
   ]
  },
  {
   "cell_type": "markdown",
   "metadata": {},
   "source": [
    "Expected Report:\n",
    "- Changed: `test1.py` \n",
    "- Deleted: `test3.py` \n",
    "- Renamed: `test4.py` -> `te4st.py`\n",
    "- Created: `test5.py`"
   ]
  },
  {
   "cell_type": "code",
   "execution_count": 5,
   "metadata": {},
   "outputs": [
    {
     "name": "stdout",
     "output_type": "stream",
     "text": [
      "New Files:\n",
      "- test5.py\n",
      "\n",
      "Changed Files:\n",
      "- test1.py\n",
      "\n",
      "Renamed Files:\n",
      "- test4.py -> te4st.py\n",
      "\n",
      "Deleted Files:\n",
      "- test3.py\n"
     ]
    }
   ],
   "source": [
    "compare_manifests('manifest1.csv','manifest2.csv')"
   ]
  },
  {
   "cell_type": "markdown",
   "metadata": {},
   "source": [
    "## File history\n",
    "\n",
    "Write a program called `file_history.py`\n",
    "that takes the name of a file as a command-line argument\n",
    "and displays the history of that file\n",
    "by tracing it back in time through the available manifests.\n",
    "Again, you can test your program using made-up manifest files.\n",
    "\n",
    "\n",
    "I am making the assumption that manifest files will be named `manifest[number].csv`, where the numbers are in order (e.g. time stamps, or in my baby example just manifest1.csv and manifest2.csv). \n",
    "\n",
    "My program first finds all manifest files in (or under) the current directory, then sorts them in chronological order from most recent to oldest. Going from most recent to oldest means we expect the input to be based on the current file names (i.e. those in the most recent manifest). It first looks for the file in the most recent manifest, and tracks its history backwards by updating the filename or hash when changes are made or the file name changes. My program returns a pandas DataFrame reporting the hash and filename of the tracked file in each manifest in which it appears.\n",
    "\n",
    "I made a third manifest to test this where I changed the name of `test4.py` once again."
   ]
  },
  {
   "cell_type": "code",
   "execution_count": 6,
   "metadata": {},
   "outputs": [],
   "source": [
    "manifest3 = pd.DataFrame({\n",
    "    'file': ['test1.py', 'test2.py', 'test4b.py', 'test5.py'],\n",
    "    'hash': ['abe', 'abcd', 'dabc', 'abcdef']\n",
    "})\n",
    "\n",
    "manifest3.to_csv('manifest3.csv', index = False, header = False)"
   ]
  },
  {
   "cell_type": "code",
   "execution_count": 7,
   "metadata": {},
   "outputs": [],
   "source": [
    "def find_manifests():\n",
    "    '''finds all csv files starting with previx `manifest` under the current directory'''\n",
    "    files = []\n",
    "    for filename in glob(\"**/manifest*.csv\", recursive=True):\n",
    "        files.append(filename)\n",
    "    return files\n",
    "        \n",
    "def file_history(filename, root = '.'):\n",
    "    manifest_files = find_manifests()\n",
    "    manifest_numbers = [float(re.findall(r'\\d+', f)[0]) for f in manifest_files]\n",
    "\n",
    "    traceback_m = []\n",
    "    traceback_f = []\n",
    "    traceback_h = []\n",
    "\n",
    "    filehash = ''\n",
    "\n",
    "    # iterate from most recent to oldest\n",
    "    for manifest in sorted(zip(manifest_numbers, manifest_files), key = lambda x: -1*x[0]):\n",
    "        manifest_file = manifest[1]\n",
    "        with open(Path(manifest_file)) as f:\n",
    "            manifest_dict = [line.replace('\\n','').split(',') for line in f.readlines()]\n",
    "            manifest_dict = {m[0]:m[1] for m in manifest_dict}\n",
    "\n",
    "        # updates hash if only name matches, updates name if only hash matches\n",
    "        if filename in manifest_dict.keys():\n",
    "            filehash = manifest_dict[filename]\n",
    "            traceback_m.append(manifest_file)\n",
    "            traceback_f.append(filename)\n",
    "            traceback_h.append(filehash)\n",
    "        elif filehash in manifest_dict.values():\n",
    "            manifest_dict_rev = {v:k for k,v in manifest_dict.items()}\n",
    "            filename = manifest_dict_rev[filehash]\n",
    "            traceback_m.append(manifest_file)\n",
    "            traceback_f.append(filename)\n",
    "            traceback_h.append(filehash)\n",
    "\n",
    "    traceback_df = pd.DataFrame({\n",
    "        'manifest_file': traceback_m,\n",
    "        'filename': traceback_f,\n",
    "        'hash': traceback_h\n",
    "    })\n",
    "    \n",
    "    if len(traceback_m) == 0:\n",
    "        warn('File '+filename+' not found in any manifest')\n",
    "    \n",
    "    return(traceback_df)"
   ]
  },
  {
   "cell_type": "markdown",
   "metadata": {},
   "source": [
    "`test0.py` never existed"
   ]
  },
  {
   "cell_type": "code",
   "execution_count": 8,
   "metadata": {},
   "outputs": [
    {
     "name": "stderr",
     "output_type": "stream",
     "text": [
      "<ipython-input-7-69f854aa8757>:45: UserWarning: File test0.py not found in any manifest\n",
      "  warn('File '+filename+' not found in any manifest')\n"
     ]
    },
    {
     "data": {
      "text/html": [
       "<div>\n",
       "<style scoped>\n",
       "    .dataframe tbody tr th:only-of-type {\n",
       "        vertical-align: middle;\n",
       "    }\n",
       "\n",
       "    .dataframe tbody tr th {\n",
       "        vertical-align: top;\n",
       "    }\n",
       "\n",
       "    .dataframe thead th {\n",
       "        text-align: right;\n",
       "    }\n",
       "</style>\n",
       "<table border=\"1\" class=\"dataframe\">\n",
       "  <thead>\n",
       "    <tr style=\"text-align: right;\">\n",
       "      <th></th>\n",
       "      <th>manifest_file</th>\n",
       "      <th>filename</th>\n",
       "      <th>hash</th>\n",
       "    </tr>\n",
       "  </thead>\n",
       "  <tbody>\n",
       "  </tbody>\n",
       "</table>\n",
       "</div>"
      ],
      "text/plain": [
       "Empty DataFrame\n",
       "Columns: [manifest_file, filename, hash]\n",
       "Index: []"
      ]
     },
     "execution_count": 8,
     "metadata": {},
     "output_type": "execute_result"
    }
   ],
   "source": [
    "file_history('test0.py')"
   ]
  },
  {
   "cell_type": "markdown",
   "metadata": {},
   "source": [
    "`test1.py` was changed once"
   ]
  },
  {
   "cell_type": "code",
   "execution_count": 9,
   "metadata": {},
   "outputs": [
    {
     "data": {
      "text/html": [
       "<div>\n",
       "<style scoped>\n",
       "    .dataframe tbody tr th:only-of-type {\n",
       "        vertical-align: middle;\n",
       "    }\n",
       "\n",
       "    .dataframe tbody tr th {\n",
       "        vertical-align: top;\n",
       "    }\n",
       "\n",
       "    .dataframe thead th {\n",
       "        text-align: right;\n",
       "    }\n",
       "</style>\n",
       "<table border=\"1\" class=\"dataframe\">\n",
       "  <thead>\n",
       "    <tr style=\"text-align: right;\">\n",
       "      <th></th>\n",
       "      <th>manifest_file</th>\n",
       "      <th>filename</th>\n",
       "      <th>hash</th>\n",
       "    </tr>\n",
       "  </thead>\n",
       "  <tbody>\n",
       "    <tr>\n",
       "      <th>0</th>\n",
       "      <td>manifest3.csv</td>\n",
       "      <td>test1.py</td>\n",
       "      <td>abe</td>\n",
       "    </tr>\n",
       "    <tr>\n",
       "      <th>1</th>\n",
       "      <td>manifest2.csv</td>\n",
       "      <td>test1.py</td>\n",
       "      <td>abe</td>\n",
       "    </tr>\n",
       "    <tr>\n",
       "      <th>2</th>\n",
       "      <td>manifest1.csv</td>\n",
       "      <td>test1.py</td>\n",
       "      <td>abc</td>\n",
       "    </tr>\n",
       "  </tbody>\n",
       "</table>\n",
       "</div>"
      ],
      "text/plain": [
       "   manifest_file  filename hash\n",
       "0  manifest3.csv  test1.py  abe\n",
       "1  manifest2.csv  test1.py  abe\n",
       "2  manifest1.csv  test1.py  abc"
      ]
     },
     "execution_count": 9,
     "metadata": {},
     "output_type": "execute_result"
    }
   ],
   "source": [
    "file_history('test1.py')"
   ]
  },
  {
   "cell_type": "markdown",
   "metadata": {},
   "source": [
    "`test2.py` was never changed"
   ]
  },
  {
   "cell_type": "code",
   "execution_count": 10,
   "metadata": {},
   "outputs": [
    {
     "data": {
      "text/html": [
       "<div>\n",
       "<style scoped>\n",
       "    .dataframe tbody tr th:only-of-type {\n",
       "        vertical-align: middle;\n",
       "    }\n",
       "\n",
       "    .dataframe tbody tr th {\n",
       "        vertical-align: top;\n",
       "    }\n",
       "\n",
       "    .dataframe thead th {\n",
       "        text-align: right;\n",
       "    }\n",
       "</style>\n",
       "<table border=\"1\" class=\"dataframe\">\n",
       "  <thead>\n",
       "    <tr style=\"text-align: right;\">\n",
       "      <th></th>\n",
       "      <th>manifest_file</th>\n",
       "      <th>filename</th>\n",
       "      <th>hash</th>\n",
       "    </tr>\n",
       "  </thead>\n",
       "  <tbody>\n",
       "    <tr>\n",
       "      <th>0</th>\n",
       "      <td>manifest3.csv</td>\n",
       "      <td>test2.py</td>\n",
       "      <td>abcd</td>\n",
       "    </tr>\n",
       "    <tr>\n",
       "      <th>1</th>\n",
       "      <td>manifest2.csv</td>\n",
       "      <td>test2.py</td>\n",
       "      <td>abcd</td>\n",
       "    </tr>\n",
       "    <tr>\n",
       "      <th>2</th>\n",
       "      <td>manifest1.csv</td>\n",
       "      <td>test2.py</td>\n",
       "      <td>abcd</td>\n",
       "    </tr>\n",
       "  </tbody>\n",
       "</table>\n",
       "</div>"
      ],
      "text/plain": [
       "   manifest_file  filename  hash\n",
       "0  manifest3.csv  test2.py  abcd\n",
       "1  manifest2.csv  test2.py  abcd\n",
       "2  manifest1.csv  test2.py  abcd"
      ]
     },
     "execution_count": 10,
     "metadata": {},
     "output_type": "execute_result"
    }
   ],
   "source": [
    "file_history('test2.py')"
   ]
  },
  {
   "cell_type": "markdown",
   "metadata": {},
   "source": [
    "`test3.py` was deleted after the first manifest"
   ]
  },
  {
   "cell_type": "code",
   "execution_count": 11,
   "metadata": {},
   "outputs": [
    {
     "data": {
      "text/html": [
       "<div>\n",
       "<style scoped>\n",
       "    .dataframe tbody tr th:only-of-type {\n",
       "        vertical-align: middle;\n",
       "    }\n",
       "\n",
       "    .dataframe tbody tr th {\n",
       "        vertical-align: top;\n",
       "    }\n",
       "\n",
       "    .dataframe thead th {\n",
       "        text-align: right;\n",
       "    }\n",
       "</style>\n",
       "<table border=\"1\" class=\"dataframe\">\n",
       "  <thead>\n",
       "    <tr style=\"text-align: right;\">\n",
       "      <th></th>\n",
       "      <th>manifest_file</th>\n",
       "      <th>filename</th>\n",
       "      <th>hash</th>\n",
       "    </tr>\n",
       "  </thead>\n",
       "  <tbody>\n",
       "    <tr>\n",
       "      <th>0</th>\n",
       "      <td>manifest1.csv</td>\n",
       "      <td>test3.py</td>\n",
       "      <td>abcde</td>\n",
       "    </tr>\n",
       "  </tbody>\n",
       "</table>\n",
       "</div>"
      ],
      "text/plain": [
       "   manifest_file  filename   hash\n",
       "0  manifest1.csv  test3.py  abcde"
      ]
     },
     "execution_count": 11,
     "metadata": {},
     "output_type": "execute_result"
    }
   ],
   "source": [
    "file_history('test3.py')"
   ]
  },
  {
   "cell_type": "markdown",
   "metadata": {},
   "source": [
    "`test4b.py` did not change, but was renamed twice."
   ]
  },
  {
   "cell_type": "code",
   "execution_count": 12,
   "metadata": {},
   "outputs": [
    {
     "data": {
      "text/html": [
       "<div>\n",
       "<style scoped>\n",
       "    .dataframe tbody tr th:only-of-type {\n",
       "        vertical-align: middle;\n",
       "    }\n",
       "\n",
       "    .dataframe tbody tr th {\n",
       "        vertical-align: top;\n",
       "    }\n",
       "\n",
       "    .dataframe thead th {\n",
       "        text-align: right;\n",
       "    }\n",
       "</style>\n",
       "<table border=\"1\" class=\"dataframe\">\n",
       "  <thead>\n",
       "    <tr style=\"text-align: right;\">\n",
       "      <th></th>\n",
       "      <th>manifest_file</th>\n",
       "      <th>filename</th>\n",
       "      <th>hash</th>\n",
       "    </tr>\n",
       "  </thead>\n",
       "  <tbody>\n",
       "    <tr>\n",
       "      <th>0</th>\n",
       "      <td>manifest3.csv</td>\n",
       "      <td>test4b.py</td>\n",
       "      <td>dabc</td>\n",
       "    </tr>\n",
       "    <tr>\n",
       "      <th>1</th>\n",
       "      <td>manifest2.csv</td>\n",
       "      <td>te4st.py</td>\n",
       "      <td>dabc</td>\n",
       "    </tr>\n",
       "    <tr>\n",
       "      <th>2</th>\n",
       "      <td>manifest1.csv</td>\n",
       "      <td>test4.py</td>\n",
       "      <td>dabc</td>\n",
       "    </tr>\n",
       "  </tbody>\n",
       "</table>\n",
       "</div>"
      ],
      "text/plain": [
       "   manifest_file   filename  hash\n",
       "0  manifest3.csv  test4b.py  dabc\n",
       "1  manifest2.csv   te4st.py  dabc\n",
       "2  manifest1.csv   test4.py  dabc"
      ]
     },
     "execution_count": 12,
     "metadata": {},
     "output_type": "execute_result"
    }
   ],
   "source": [
    "file_history('test4b.py')"
   ]
  },
  {
   "cell_type": "markdown",
   "metadata": {},
   "source": [
    "`test5.py` was created after manifest 1"
   ]
  },
  {
   "cell_type": "code",
   "execution_count": 13,
   "metadata": {},
   "outputs": [
    {
     "data": {
      "text/html": [
       "<div>\n",
       "<style scoped>\n",
       "    .dataframe tbody tr th:only-of-type {\n",
       "        vertical-align: middle;\n",
       "    }\n",
       "\n",
       "    .dataframe tbody tr th {\n",
       "        vertical-align: top;\n",
       "    }\n",
       "\n",
       "    .dataframe thead th {\n",
       "        text-align: right;\n",
       "    }\n",
       "</style>\n",
       "<table border=\"1\" class=\"dataframe\">\n",
       "  <thead>\n",
       "    <tr style=\"text-align: right;\">\n",
       "      <th></th>\n",
       "      <th>manifest_file</th>\n",
       "      <th>filename</th>\n",
       "      <th>hash</th>\n",
       "    </tr>\n",
       "  </thead>\n",
       "  <tbody>\n",
       "    <tr>\n",
       "      <th>0</th>\n",
       "      <td>manifest3.csv</td>\n",
       "      <td>test5.py</td>\n",
       "      <td>abcdef</td>\n",
       "    </tr>\n",
       "    <tr>\n",
       "      <th>1</th>\n",
       "      <td>manifest2.csv</td>\n",
       "      <td>test5.py</td>\n",
       "      <td>abcdef</td>\n",
       "    </tr>\n",
       "  </tbody>\n",
       "</table>\n",
       "</div>"
      ],
      "text/plain": [
       "   manifest_file  filename    hash\n",
       "0  manifest3.csv  test5.py  abcdef\n",
       "1  manifest2.csv  test5.py  abcdef"
      ]
     },
     "execution_count": 13,
     "metadata": {},
     "output_type": "execute_result"
    }
   ],
   "source": [
    "file_history('test5.py')"
   ]
  },
  {
   "cell_type": "markdown",
   "metadata": {},
   "source": [
    "## Finding duplicate files\n",
    "\n",
    "Write a program called `finddup.py` that takes a list of filenames as command-line\n",
    "arguments, and reports which of those files are duplicates of each other.  The\n",
    "fastest way to do this is to calculate the hash for each file, and then group files\n",
    "with the same hashes together. Note that there may be several duplicates of a file,\n",
    "not just two.\n",
    "\n",
    "You can test your program by creating a few directories with test files in them\n",
    "rather than using pyfakefs.\n"
   ]
  },
  {
   "cell_type": "code",
   "execution_count": 14,
   "metadata": {},
   "outputs": [],
   "source": [
    "BUFFER_SIZE = 4 * 1024  # how much data to read at once\n",
    "def hash_stream(reader):\n",
    "    # copied from slides\n",
    "    sha256 = hashlib.sha256()\n",
    "    while True:\n",
    "        block = reader.read(BUFFER_SIZE)\n",
    "        if not block:\n",
    "            break\n",
    "        sha256.update(block)\n",
    "    return sha256.hexdigest()\n",
    "\n",
    "def hash_file(filename):\n",
    "    reader = open(filename, \"rb\")\n",
    "    result = hash_stream(reader)\n",
    "    return(result)"
   ]
  },
  {
   "cell_type": "code",
   "execution_count": 15,
   "metadata": {},
   "outputs": [],
   "source": [
    "def finddup(filenames):\n",
    "    filenames = pd.Series(filenames)\n",
    "    hashes = pd.Series([hash_file(f) for f in filenames])\n",
    "    \n",
    "    dups = {}\n",
    "    for i in range(len(hashes)):\n",
    "        if hashes[i] not in dups.keys() and sum(hashes == hashes[i]) > 1:\n",
    "            dups[hashes[i]] = list(filenames[hashes == hashes[i]])\n",
    "            \n",
    "    # print report\n",
    "    for filehash, dup_files in dups.items():\n",
    "        out_str = 'Hash '+ filehash +' duplicated in:'\n",
    "        for dup in dup_files:\n",
    "            out_str += ('\\n- ' + dup)\n",
    "        print(out_str)\n",
    "        \n",
    "    # return dictionary with results\n",
    "    return(dups)"
   ]
  },
  {
   "cell_type": "code",
   "execution_count": 16,
   "metadata": {},
   "outputs": [
    {
     "name": "stdout",
     "output_type": "stream",
     "text": [
      "Hash 1b4f0e9851971998e732078544c96b36c3d01cedf7caa332359d6f1d83567014 duplicated in:\n",
      "- backup_test/test1.txt\n",
      "- backup_test/test1_copy.txt\n",
      "- backup_test/test_subdir/test1_copy2.txt\n"
     ]
    }
   ],
   "source": [
    "dups = finddup(filenames = glob(\"backup_test/**/**.**\", recursive=True))"
   ]
  },
  {
   "cell_type": "code",
   "execution_count": 17,
   "metadata": {},
   "outputs": [
    {
     "data": {
      "text/plain": [
       "{'1b4f0e9851971998e732078544c96b36c3d01cedf7caa332359d6f1d83567014': ['backup_test/test1.txt',\n",
       "  'backup_test/test1_copy.txt',\n",
       "  'backup_test/test_subdir/test1_copy2.txt']}"
      ]
     },
     "execution_count": 17,
     "metadata": {},
     "output_type": "execute_result"
    }
   ],
   "source": [
    "dups"
   ]
  }
 ],
 "metadata": {
  "kernelspec": {
   "display_name": "Python 3",
   "language": "python",
   "name": "python3"
  },
  "language_info": {
   "codemirror_mode": {
    "name": "ipython",
    "version": 3
   },
   "file_extension": ".py",
   "mimetype": "text/x-python",
   "name": "python",
   "nbconvert_exporter": "python",
   "pygments_lexer": "ipython3",
   "version": "3.8.5"
  }
 },
 "nbformat": 4,
 "nbformat_minor": 4
}
