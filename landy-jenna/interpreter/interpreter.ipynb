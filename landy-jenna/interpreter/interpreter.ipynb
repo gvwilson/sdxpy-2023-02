{
 "cells": [
  {
   "cell_type": "markdown",
   "metadata": {},
   "source": [
    "## Defining and Calling Functions\n",
    "\n",
    "1.  Work through the explanation in the slides (and chapter)\n",
    "    of how to define a function in our little language\n",
    "    and then how to call one.\n",
    "2.  Look at the documentation for Python's `ChainMap` class\n",
    "    and modify the implementation from the slides to use that\n",
    "    to manage environments."
   ]
  },
  {
   "cell_type": "markdown",
   "metadata": {},
   "source": [
    "## 1. Add to Implementation from Slides\n",
    "\n",
    "I added a function `run_setf` which sets a function to a variable. the difference between this and the `set` function is that it doens't evaluate the value until the function is called.\n",
    "\n",
    "I added a function `run_evalf` to evaluate a function.\n",
    "\n",
    "Right now, my implementation is only able to define functions with no parameters."
   ]
  },
  {
   "cell_type": "code",
   "execution_count": 7,
   "metadata": {},
   "outputs": [],
   "source": [
    "def run_add(env, args):\n",
    "    assert len(args) == 2\n",
    "    left = run(env, args[0])\n",
    "    right = run(env, args[1])\n",
    "    # let python do the actual addition\n",
    "    # our langauge builds upon python\n",
    "    return left + right\n",
    "\n",
    "def run_mul(env, args):\n",
    "    assert len(args) == 2\n",
    "    left = run(env, args[0])\n",
    "    right = run(env, args[1])\n",
    "    return left * right\n",
    "\n",
    "def run_get(env, args):\n",
    "    assert len(args) == 1\n",
    "    name = args[0]\n",
    "    assert name in env, f\"Unkown variable {name}\"\n",
    "    return env[name]\n",
    "\n",
    "def run_seq(env, args):\n",
    "    assert len(args) > 0\n",
    "    result = None\n",
    "    for expr in args:\n",
    "        result = run(env, expr)\n",
    "    return result\n",
    "\n",
    "def run_set(env, args):\n",
    "    assert len(args) == 2\n",
    "    name = args[0]\n",
    "    value = run(env, args[1])\n",
    "    env[name] = value\n",
    "    return value\n",
    "\n",
    "def run_setf(env, args):\n",
    "    assert len(args) == 2\n",
    "    name = args[0]\n",
    "    value = args[1] # don't evaluate when setting function\n",
    "    env[name] = value\n",
    "    return value\n",
    "\n",
    "# LAZY EVALUATION\n",
    "# true case won't error when cond is false\n",
    "def run_if(env, args):\n",
    "    assert len(args) == 3\n",
    "    cond = args[0]\n",
    "    if_true = args[1]\n",
    "    if_false = args[2]\n",
    "    # again, rely on python (i.e. level below us)\n",
    "    if run(env, cond):\n",
    "        return run(env, if_true)\n",
    "    else:\n",
    "        return run(env, if_false)\n",
    "    \n",
    "# EAGER EVALUATION\n",
    "# true case will error even if cond is false\n",
    "# this is what R does UGH\n",
    "# def run_if(env, args):\n",
    "#     assert len(args) == 3\n",
    "#     cond = run(env, args[0])\n",
    "#     if_true = run(env, args[1])\n",
    "#     if_false = run(env, args[0])\n",
    "#     # again, rely on python (i.e. level below us)\n",
    "#     if cond:\n",
    "#         return if_true\n",
    "#     else:\n",
    "#         return if_false\n",
    "\n",
    "\n",
    "def run_evalf(env, args):\n",
    "    assert len(args) == 1\n",
    "    fun_name = args[0]\n",
    "    fun = env[fun_name]\n",
    "    return run(env, fun)\n",
    "\n",
    "def run(env, expr):\n",
    "    if not isinstance(expr, list):\n",
    "        return expr\n",
    "    op = expr[0]\n",
    "    args = expr[1:]\n",
    "    assert op in OPS, f\"unkown operation {op}\"\n",
    "    func = OPS[op]\n",
    "    return func(env, args)\n",
    "\n",
    "OPS = {\n",
    "    \"add\": run_add,\n",
    "    \"mul\": run_mul,\n",
    "    \"get\": run_get,\n",
    "    \"seq\": run_seq,\n",
    "    \"set\": run_set,\n",
    "    \"if\": run_if,\n",
    "    \"evalf\": run_evalf,\n",
    "    'setf': run_setf\n",
    "}"
   ]
  },
  {
   "cell_type": "code",
   "execution_count": 8,
   "metadata": {},
   "outputs": [
    {
     "name": "stdout",
     "output_type": "stream",
     "text": [
      "5\n"
     ]
    }
   ],
   "source": [
    "program = [\n",
    "    'seq',\n",
    "    ['setf', 'my_func', ['add',2,3]],\n",
    "    ['evalf', 'my_func']\n",
    "]\n",
    "print(run(env = {}, expr = program))"
   ]
  },
  {
   "cell_type": "markdown",
   "metadata": {},
   "source": [
    "is equivalent to"
   ]
  },
  {
   "cell_type": "code",
   "execution_count": 9,
   "metadata": {},
   "outputs": [
    {
     "data": {
      "text/plain": [
       "5"
      ]
     },
     "execution_count": 9,
     "metadata": {},
     "output_type": "execute_result"
    }
   ],
   "source": [
    "def my_fun():\n",
    "    return 2 + 3\n",
    "\n",
    "my_fun()"
   ]
  },
  {
   "cell_type": "markdown",
   "metadata": {},
   "source": [
    "## 2. Use Python's ChainMap class to manage environments"
   ]
  },
  {
   "cell_type": "markdown",
   "metadata": {},
   "source": [
    "https://realpython.com/python-chainmap/\n",
    "\n",
    "ChainMap is a \"handy tool for managing multiple scopes and contexts\". From what I can tell, a ChainMap behaves just like a dictionary for accessing, setting, and checking contents.\n",
    "\n",
    "I replaced the environment with a ChainMap, and everything seems to behave the same. I think the main benefit of using a chain map is to easily use multiple environments and still interact with it as if it's a single dictionary (for instance: `ChainMap({'test_var': 'a'}, {'test_2': 'b'})`)."
   ]
  },
  {
   "cell_type": "code",
   "execution_count": 10,
   "metadata": {},
   "outputs": [],
   "source": [
    "from collections import ChainMap\n",
    "\n",
    "c = ChainMap({'test_var': 'a'})"
   ]
  },
  {
   "cell_type": "code",
   "execution_count": 11,
   "metadata": {},
   "outputs": [
    {
     "data": {
      "text/plain": [
       "'a'"
      ]
     },
     "execution_count": 11,
     "metadata": {},
     "output_type": "execute_result"
    }
   ],
   "source": [
    "c['test_var']"
   ]
  },
  {
   "cell_type": "code",
   "execution_count": 12,
   "metadata": {},
   "outputs": [
    {
     "data": {
      "text/plain": [
       "True"
      ]
     },
     "execution_count": 12,
     "metadata": {},
     "output_type": "execute_result"
    }
   ],
   "source": [
    "'test_var' in c"
   ]
  },
  {
   "cell_type": "code",
   "execution_count": 13,
   "metadata": {},
   "outputs": [
    {
     "data": {
      "text/plain": [
       "ChainMap({'test_var': 'a', 'abs': 2})"
      ]
     },
     "execution_count": 13,
     "metadata": {},
     "output_type": "execute_result"
    }
   ],
   "source": [
    "c['abs'] = 2\n",
    "c"
   ]
  },
  {
   "cell_type": "code",
   "execution_count": 17,
   "metadata": {},
   "outputs": [
    {
     "data": {
      "text/plain": [
       "('a', 'b')"
      ]
     },
     "execution_count": 17,
     "metadata": {},
     "output_type": "execute_result"
    }
   ],
   "source": [
    "c = ChainMap({'test_var': 'a'}, {'test_2': 'b'})\n",
    "c['test_var'], c['test_2']"
   ]
  },
  {
   "cell_type": "code",
   "execution_count": 22,
   "metadata": {},
   "outputs": [
    {
     "name": "stdout",
     "output_type": "stream",
     "text": [
      "6\n"
     ]
    }
   ],
   "source": [
    "def run_add(env, args):\n",
    "    assert len(args) == 2\n",
    "    left = run(env, args[0])\n",
    "    right = run(env, args[1])\n",
    "    # let python do the actual addition\n",
    "    # our langauge builds upon python\n",
    "    return left + right\n",
    "\n",
    "def run_mul(env, args):\n",
    "    assert len(args) == 2\n",
    "    left = run(env, args[0])\n",
    "    right = run(env, args[1])\n",
    "    return left * right\n",
    "\n",
    "def run_get(env, args):\n",
    "    assert len(args) == 1\n",
    "    name = args[0]\n",
    "    assert name in env, f\"Unkown variable {name}\"\n",
    "    return env[name]\n",
    "\n",
    "def run_seq(env, args):\n",
    "    assert len(args) > 0\n",
    "    result = None\n",
    "    for expr in args:\n",
    "        result = run(env, expr)\n",
    "    return result\n",
    "\n",
    "def run_set(env, args):\n",
    "    assert len(args) == 2\n",
    "    name = args[0]\n",
    "    value = run(env, args[1])\n",
    "    env[name] = value\n",
    "    return value\n",
    "\n",
    "# LAZY EVALUATION\n",
    "# true case won't error when cond is false\n",
    "def run_if(env, args):\n",
    "    assert len(args) == 3\n",
    "    cond = args[0]\n",
    "    if_true = args[1]\n",
    "    if_false = args[2]\n",
    "    # again, rely on python (i.e. level below us)\n",
    "    if run(env, cond):\n",
    "        return run(env, if_true)\n",
    "    else:\n",
    "        return run(env, if_false)\n",
    "    \n",
    "# EAGER EVALUATION\n",
    "# true case will error even if cond is false\n",
    "# this is what R does UGH\n",
    "# def run_if(env, args):\n",
    "#     assert len(args) == 3\n",
    "#     cond = run(env, args[0])\n",
    "#     if_true = run(env, args[1])\n",
    "#     if_false = run(env, args[0])\n",
    "#     # again, rely on python (i.e. level below us)\n",
    "#     if cond:\n",
    "#         return if_true\n",
    "#     else:\n",
    "#         return if_false\n",
    "\n",
    "\n",
    "def run_evalf(env, args):\n",
    "    assert len(args) == 1\n",
    "    fun_name = args[0]\n",
    "    fun = env[fun_name]\n",
    "    return run(env, fun)\n",
    "\n",
    "def run(env, expr):\n",
    "    if not isinstance(expr, list):\n",
    "        return expr\n",
    "    op = expr[0]\n",
    "    args = expr[1:]\n",
    "    assert op in OPS, f\"unkown operation {op}\"\n",
    "    func = OPS[op]\n",
    "    return func(env, args)\n",
    "\n",
    "OPS = {\n",
    "    \"add\": run_add,\n",
    "    \"mul\": run_mul,\n",
    "    \"get\": run_get,\n",
    "    \"seq\": run_seq,\n",
    "    \"set\": run_set,\n",
    "    \"if\": run_if,\n",
    "    \"evalf\": run_evalf\n",
    "}\n",
    "\n",
    "variables = {\n",
    "    \"firas\": 1,\n",
    "    \"jenna\": 3\n",
    "}\n",
    "chainmap_env = ChainMap(variables)\n",
    "\n",
    "program = [\n",
    "    'seq',\n",
    "    ['set', 'my_func', ['add',['get','jenna'],3]],\n",
    "    ['evalf', 'my_func']\n",
    "]\n",
    "print(run(env = chainmap_env, expr = program))"
   ]
  },
  {
   "cell_type": "markdown",
   "metadata": {},
   "source": [
    "## Arrays\n",
    "\n",
    "Implement fixed-size one-dimensional arrays:\n",
    "\n",
    "1.  `[\"array\", 10]` creates an array of 10 elements.\n",
    "    (If you want to assign it to a variable you could use `[\"set\", \"var\", [\"array\", 10]]`.)\n",
    "2.  Other instructions that you design get and set array elements by index."
   ]
  },
  {
   "cell_type": "code",
   "execution_count": 19,
   "metadata": {},
   "outputs": [
    {
     "name": "stdout",
     "output_type": "stream",
     "text": [
      "abc\n"
     ]
    }
   ],
   "source": [
    "def run_array(env, args):\n",
    "    assert len(args) == 1\n",
    "    array_len = args[0]\n",
    "    return [None]*array_len\n",
    "\n",
    "def run_set_element(env, args):\n",
    "    assert len(args) == 3\n",
    "    array = run(env, args[0])\n",
    "    idx = run(env, args[1])\n",
    "    value = run(env, args[2])\n",
    "    array[idx] = value\n",
    "    return value\n",
    "\n",
    "def run_get_element(env, args):\n",
    "    assert len(args) == 2\n",
    "    array = run(env, args[0])\n",
    "    idx = run(env, args[1])\n",
    "    return array[idx]\n",
    "\n",
    "OPS = {\n",
    "    \"add\": run_add,\n",
    "    \"mul\": run_mul,\n",
    "    \"get\": run_get,\n",
    "    \"seq\": run_seq,\n",
    "    \"set\": run_set,\n",
    "    \"if\": run_if,\n",
    "    \"setf\": run_setf,\n",
    "    \"evalf\": run_evalf,\n",
    "    \"array\": run_array,\n",
    "    'get_element': run_get_element,\n",
    "    'set_element': run_set_element\n",
    "}\n",
    "\n",
    "variables = {\n",
    "    \"firas\": 1,\n",
    "    \"jenna\": 3\n",
    "}\n",
    "chainmap_env = ChainMap(variables)\n",
    "\n",
    "program = [\n",
    "    'seq',\n",
    "    ['set', 'my_array', ['array', 10]],\n",
    "    ['set_element', ['get', 'my_array'], 4, 'abc'],\n",
    "    ['get_element', ['get', 'my_array'], 4]\n",
    "]\n",
    "print(run(env = chainmap_env, expr = program))"
   ]
  },
  {
   "cell_type": "markdown",
   "metadata": {},
   "source": [
    "## While Loops\n",
    "\n",
    "Implement a `while` loop instruction. Your implementation can use either a Python `while` loop or recursion.\n",
    "\n",
    "I also implemented a \"less than\" operator where `['lt',left,right]` checks whether `left < right`. I implement a while loop that takes in a `condition` and a `do` operator. I test this out where the condition checks whether a variable is less than 3, and for each iteration increases the value of that variable."
   ]
  },
  {
   "cell_type": "code",
   "execution_count": 44,
   "metadata": {},
   "outputs": [],
   "source": [
    "def run_while(env, args):\n",
    "    condition = args[0]\n",
    "    do = args[1]\n",
    "    it = 1\n",
    "    while run(env, condition):\n",
    "        run(env, do)\n",
    "        it += 1\n",
    "    return(it)\n",
    "\n",
    "def run_lt(env, args):\n",
    "    left = run(env, args[0])\n",
    "    right = run(env, args[1])\n",
    "    return left < right\n",
    "\n",
    "OPS = {\n",
    "    \"add\": run_add,\n",
    "    \"mul\": run_mul,\n",
    "    \"get\": run_get,\n",
    "    \"seq\": run_seq,\n",
    "    \"set\": run_set,\n",
    "    \"if\": run_if,\n",
    "    \"evalf\": run_evalf,\n",
    "    \"setf\": run_setf,\n",
    "    \"array\": run_array,\n",
    "    'get_element': get_element,\n",
    "    'set_element': set_element,\n",
    "    'while': run_while,\n",
    "    'lt': run_lt\n",
    "}"
   ]
  },
  {
   "cell_type": "code",
   "execution_count": 45,
   "metadata": {},
   "outputs": [
    {
     "data": {
      "text/plain": [
       "True"
      ]
     },
     "execution_count": 45,
     "metadata": {},
     "output_type": "execute_result"
    }
   ],
   "source": [
    "variables = {\n",
    "    \"firas\": 1,\n",
    "    \"jenna\": 2\n",
    "}\n",
    "\n",
    "chainmap_env = ChainMap(variables)\n",
    "\n",
    "run(env = chainmap_env, expr = [\"if\", ['lt', ['get', 'jenna'], 3], True, False])"
   ]
  },
  {
   "cell_type": "code",
   "execution_count": 49,
   "metadata": {},
   "outputs": [
    {
     "name": "stdout",
     "output_type": "stream",
     "text": [
      "0\n",
      "4\n",
      "3\n"
     ]
    }
   ],
   "source": [
    "variables = {\n",
    "    \"firas\": 1,\n",
    "    \"jenna\": 0\n",
    "}\n",
    "chainmap_env = ChainMap(variables)\n",
    "\n",
    "print(run(env = chainmap_env, expr = ['get','jenna']))\n",
    "\n",
    "program = [\n",
    "    'while', \n",
    "    [\"if\", ['lt', ['get', 'jenna'], 3], True, False], \n",
    "    ['set', 'jenna', ['add', ['get', 'jenna'], 1]]\n",
    "]\n",
    "print(run(env = chainmap_env, expr = program))\n",
    "\n",
    "print(run(env = chainmap_env, expr = ['get','jenna']))"
   ]
  },
  {
   "cell_type": "markdown",
   "metadata": {},
   "source": [
    "Same as"
   ]
  },
  {
   "cell_type": "code",
   "execution_count": 50,
   "metadata": {},
   "outputs": [
    {
     "name": "stdout",
     "output_type": "stream",
     "text": [
      "4\n"
     ]
    }
   ],
   "source": [
    "jenna = 0\n",
    "it = 1\n",
    "while jenna < 3:\n",
    "    jenna += 1\n",
    "    it += 1\n",
    "print(it)"
   ]
  }
 ],
 "metadata": {
  "kernelspec": {
   "display_name": "Python 3",
   "language": "python",
   "name": "python3"
  },
  "language_info": {
   "codemirror_mode": {
    "name": "ipython",
    "version": 3
   },
   "file_extension": ".py",
   "mimetype": "text/x-python",
   "name": "python",
   "nbconvert_exporter": "python",
   "pygments_lexer": "ipython3",
   "version": "3.8.5"
  }
 },
 "nbformat": 4,
 "nbformat_minor": 4
}
